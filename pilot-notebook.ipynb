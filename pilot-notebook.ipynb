{
 "cells": [
  {
   "cell_type": "code",
   "execution_count": 1,
   "metadata": {},
   "outputs": [
    {
     "name": "stdout",
     "output_type": "stream",
     "text": [
      "Requirement already satisfied: PyPDF2 in c:\\users\\feder\\documents\\uca\\ciclo i - 2025\\data mining\\.venv\\lib\\site-packages (3.0.1)\n",
      "Note: you may need to restart the kernel to use updated packages.\n"
     ]
    }
   ],
   "source": [
    "%pip install PyPDF2"
   ]
  },
  {
   "cell_type": "code",
   "execution_count": 2,
   "metadata": {},
   "outputs": [],
   "source": [
    "from PyPDF2 import PdfReader"
   ]
  },
  {
   "cell_type": "code",
   "execution_count": 3,
   "metadata": {},
   "outputs": [],
   "source": [
    "def extract_text_with_pyPDF(PDF_File):\n",
    "\n",
    "    pdf_reader = PdfReader(PDF_File)\n",
    "    \n",
    "    raw_text = ''\n",
    "\n",
    "    for i, page in enumerate(pdf_reader.pages):\n",
    "        \n",
    "        text = page.extract_text()\n",
    "        if text:\n",
    "            raw_text += text\n",
    "\n",
    "    return raw_text"
   ]
  },
  {
   "cell_type": "code",
   "execution_count": 7,
   "metadata": {},
   "outputs": [
    {
     "name": "stdout",
     "output_type": "stream",
     "text": [
      "M ejorar los apr end izajes: La trans form ación\n",
      "educ ativa que  la región nece sitaOPINIÓN COLUMNAS EDUCACIÓN\n",
      " \n",
      "0:000:00\n",
      "/ 5:43/ 5:43\n",
      "José Manuel Salazar-Xirinachs - Secretario ejecutivo de la Comisión Económica para América Latina y el Caribe (CEPAL)\n",
      "EUROCOPA CENTRO HISTÓRICO CURIOSOS LLUVIAS EL SALVADOR COPA AMÉRICA DEPORTES CENSO 2024Por José Manuel Salazar-Xirinachs\n",
      "30 DE JUNIO DE 2024 00:00 HS - GMT-6\n",
      "LECTURA 5:00 MIN\n",
      "El déﬁcit de crecimiento de América Latina se debe en buena parte a su retraso\n",
      "en los resultados de aprendizaje. Allí está el fracaso.\n",
      "Aunque las teorías iniciales sobre el crecimiento en los años 1950 lo vieron como un\n",
      "proceso de acumulación de capital físico y tangible, la experiencia demostró que se\n",
      "requería mucho más para crecer. La atención de las teorías pasó a concentrarse en el\n",
      "papel del mundo del trabajo y no solo en el número tangible de trabajadores, sino en sus\n",
      "habilidades y competencias, en qué podían hacer y qué tan buenos eran para hacerlo, por\n",
      "supuesto en combinación con capital físico y tecnología.\n",
      "Desde el siglo XIX en muchos países existió un amplio consenso sobre el papel\n",
      "fundamental de la educación para la prosperidad y el desarrollo, pero lo cierto es que a\n",
      "partir de los años 1960 algunos economistas “redescubrieron” el tema y lo incorporaron\n",
      "en teorías y modelos matemáticos de crecimiento (Becker, Mankiew, Weil, Romer y otros).\n",
      "Así se desarrolló el concepto de “capital humano”, que consideró a la educación y el\n",
      "entrenamiento no solo una experiencia cultural y humanística, sino una inversión, y no\n",
      "solo de cada persona para mejorar su desarrollo humano, sino de una sociedad paraEUROCOPA CENTRO HISTÓRICO CURIOSOS LLUVIAS EL SALVADOR COPA AMÉRICA DEPORTES CENSO 2024mejorar su crecimiento, desarrollo productivo y nivel de ingreso per cápita. Esto signiﬁca\n",
      "que en las sociedades modernas del conocimiento ya los rendimientos decrecientes, o\n",
      "incluso constantes, no son los que dominan, sino que la innovación y las nuevas ideas son\n",
      "capaces de generar un mundo de rendimientos crecientes, es decir, de crecimiento\n",
      "creciente y acumulativo en la productividad. Es por esto que en las sociedades modernas\n",
      "del conocimiento, y bajo los nuevos paradigmas productivos intensivos en tecnología, el\n",
      "papel de la educación y de la formación vocacional es más importante que nunca. Y es\n",
      "bajo esta línea de pensamiento que las sociedades han puesto atención en la cobertura y\n",
      "calidad de la educación como parte de sus estrategias de desarrollo y transformación\n",
      "productiva.\n",
      "Ahora bien, ¿qué sabemos y qué no sabemos sobre cuándo y cómo la educación impulsa o\n",
      "causa crecimiento y cuándo no? ¿Qué tipo de políticas educativas pueden ayudar a la gran\n",
      "transformación productiva? Este fue el tema que el economista Lant Pritchett abordó\n",
      "durante una conferencia magistral realizada en marzo pasado por el 75º Aniversario de la\n",
      "CEPAL. Las respuestas a las preguntas anteriores, según Pritchett, se pueden resumir en la\n",
      "siguiente narrativa.\n",
      "El punto de partida es reconocer, como dijo Pritchett, que “la expansión de la cobertura de\n",
      "la educación desde los años 1950 ha sido uno de los más destacados éxitos de la\n",
      "humanidad en la segunda parte del siglo XX y primera del XIX”. Sin embargo, existe un\n",
      "gran misterio sobre la relación entre educación y crecimiento. Muchos países han tenido\n",
      "masivas expansiones en sus sistemas educativos y no han experimentado crecimiento alto\n",
      "y sostenido, lo cual sugiere que la expansión de la educación en términos de la tasa de\n",
      "matrícula no es una condición suﬁciente para el crecimiento. Parte de la solución de este\n",
      "misterio es que la educación no genera crecimiento a menos que genere aprendizaje.\n",
      "En América Latina y el Caribe, entre 1950 y 2015, los años de escolaridad de los jóvenes de\n",
      "entre 25 y 34 años pasaron de 3.0 a 10.2. Es más, casi todos los países de la región tenían en\n",
      "2015 a sus jóvenes con más escolaridad que en los países desarrollados en 1950. La\n",
      "conclusión es que ninguna parte del fracaso de ALC para converger en la productividadEUROCOPA CENTRO HISTÓRICO CURIOSOS LLUVIAS EL SALVADOR COPA AMÉRICA DEPORTES CENSO 2024laboral con los países líderes puede ser atribuida a una falla para expandir la matrícula\n",
      "educativa tan rápido como los países desarrollados.\n",
      "Según Pritchett, las razones por las que la mayor escolaridad no conduce uniformemente\n",
      "a mayor crecimiento se ubican en dos categorías: i) que la escolaridad no esté\n",
      "produciendo los resultados de aprendizaje (habilidades, competencias, capacidades,\n",
      "características) que conducen a una fuerza de trabajo más productiva; ii) que la economía\n",
      "no esté estructurada de manera tal que, aun cuando la expansión de la educación esté\n",
      "produciendo una fuerza de trabajo con mayor potencial productivo, este más alto “capital\n",
      "humano” no esté siendo aprovechado y ocupado en sectores dinámicos y de alta\n",
      "productividad.\n",
      "En cuanto a la primera, la evidencia es clara: el crecimiento económico de los países sí está\n",
      "fuertemente asociado con la educación cuando se usan indicadores de resultados de\n",
      "aprendizaje de los estudiantes. Cuando se usa un índice de Años de Escolaridad Ajustados\n",
      "por Aprendizaje las correlaciones entre educación y crecimiento y entre educación y\n",
      "niveles de ingreso per cápita son signiﬁcativas. Es decir, que el déﬁcit de crecimiento de\n",
      "América Latina se debe en buena parte a su retraso en los resultados de aprendizaje. Allí\n",
      "está el fracaso.\n",
      "La segunda categoría de razones por las que una mayor escolaridad, inclusive si tiene\n",
      "mejores resultados de aprendizaje, no conduce por sí misma a mayor crecimiento, es que\n",
      "no se abran espacios de oportunidad para emplear productivamente a esta fuerza de\n",
      "trabajo más capacitada y potencialmente más productiva. Ampliar estos espacios es\n",
      "precisamente el objetivo de las políticas de desarrollo productivo por las que estamos\n",
      "abogando desde la CEPAL.\n",
      "Tags\n",
      "EDUCACIÓN APRENDIZAJE CAPITAL HUM ANO\n",
      "M ás sobre este tem aEUROCOPA CENTRO HISTÓRICO CURIOSOS LLUVIAS EL SALVADOR COPA AMÉRICA DEPORTES CENSO 2024\n"
     ]
    }
   ],
   "source": [
    "\n",
    "text_with_pyPDF = extract_text_with_pyPDF(\"test-newspaper.pdf\")\n",
    "print(text_with_pyPDF)"
   ]
  }
 ],
 "metadata": {
  "kernelspec": {
   "display_name": ".venv",
   "language": "python",
   "name": "python3"
  },
  "language_info": {
   "codemirror_mode": {
    "name": "ipython",
    "version": 3
   },
   "file_extension": ".py",
   "mimetype": "text/x-python",
   "name": "python",
   "nbconvert_exporter": "python",
   "pygments_lexer": "ipython3",
   "version": "3.13.1"
  }
 },
 "nbformat": 4,
 "nbformat_minor": 2
}
